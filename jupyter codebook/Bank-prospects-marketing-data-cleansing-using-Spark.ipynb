{
 "cells": [
  {
   "cell_type": "markdown",
   "metadata": {
    "colab_type": "text",
    "id": "IbdX0p13eILZ"
   },
   "source": [
    "# Bank Prospect Data cleaning project with spark Dataframes"
   ]
  },
  {
   "cell_type": "code",
   "execution_count": 7,
   "metadata": {},
   "outputs": [],
   "source": [
    "#pip install pyspark"
   ]
  },
  {
   "cell_type": "code",
   "execution_count": 42,
   "metadata": {
    "scrolled": true
   },
   "outputs": [],
   "source": [
    "from pyspark.sql import SparkSession\n",
    "spark = SparkSession.builder.master(\"local[*]\").getOrCreate() #here, i launch spark with all cpu cores i've..."
   ]
  },
  {
   "cell_type": "markdown",
   "metadata": {
    "colab_type": "text",
    "id": "VYSFxm18k9En"
   },
   "source": [
    "## Read the CSV file into a DataFrame"
   ]
  },
  {
   "cell_type": "code",
   "execution_count": 9,
   "metadata": {
    "colab": {},
    "colab_type": "code",
    "id": "DRtEs9_rmxuu"
   },
   "outputs": [],
   "source": [
    "bankProspectsDF = spark.read.csv(\"bank_prospects.csv\",header=True)"
   ]
  },
  {
   "cell_type": "code",
   "execution_count": 10,
   "metadata": {
    "colab": {
     "base_uri": "https://localhost:8080/",
     "height": 286
    },
    "colab_type": "code",
    "id": "KaD8TO9fyYqe",
    "outputId": "1432f579-cc65-49b1-b6d2-79bff1562728",
    "scrolled": true
   },
   "outputs": [
    {
     "name": "stdout",
     "output_type": "stream",
     "text": [
      "+----+------+------+-------+---------+\n",
      "| Age|Salary|Gender|Country|Purchased|\n",
      "+----+------+------+-------+---------+\n",
      "|  18| 20000|  Male|Germany|        N|\n",
      "|  19| 22000|Female| France|        N|\n",
      "|  20| 24000|Female|England|        N|\n",
      "|  21|  null|  Male|England|        N|\n",
      "|  22| 50000|  Male| France|        Y|\n",
      "|  23| 35000|Female|England|        N|\n",
      "|  24|  null|  Male|Germany|        N|\n",
      "|  25| 32000|Female| France|        Y|\n",
      "|null| 35000|  Male|Germany|        N|\n",
      "|  27| 37000|Female| France|        N|\n",
      "|  27| 37000|Female|unknown|        N|\n",
      "+----+------+------+-------+---------+\n",
      "\n"
     ]
    }
   ],
   "source": [
    "bankProspectsDF.show()"
   ]
  },
  {
   "cell_type": "markdown",
   "metadata": {
    "colab_type": "text",
    "id": "FVEJgD-SycYd"
   },
   "source": [
    "## Remove the record with \"unknow\" value in country column"
   ]
  },
  {
   "cell_type": "code",
   "execution_count": 11,
   "metadata": {
    "colab": {},
    "colab_type": "code",
    "id": "YDRmr-s8yTha"
   },
   "outputs": [],
   "source": [
    "bankProspectsDF1 = bankProspectsDF.filter(bankProspectsDF['country'] != \"unknown\")"
   ]
  },
  {
   "cell_type": "code",
   "execution_count": 12,
   "metadata": {
    "colab": {
     "base_uri": "https://localhost:8080/",
     "height": 269
    },
    "colab_type": "code",
    "id": "dr2Oc1qwypT7",
    "outputId": "bcaa140d-08f8-472e-81e6-cfd82fa2d1dc"
   },
   "outputs": [
    {
     "name": "stdout",
     "output_type": "stream",
     "text": [
      "+----+------+------+-------+---------+\n",
      "| Age|Salary|Gender|Country|Purchased|\n",
      "+----+------+------+-------+---------+\n",
      "|  18| 20000|  Male|Germany|        N|\n",
      "|  19| 22000|Female| France|        N|\n",
      "|  20| 24000|Female|England|        N|\n",
      "|  21|  null|  Male|England|        N|\n",
      "|  22| 50000|  Male| France|        Y|\n",
      "|  23| 35000|Female|England|        N|\n",
      "|  24|  null|  Male|Germany|        N|\n",
      "|  25| 32000|Female| France|        Y|\n",
      "|null| 35000|  Male|Germany|        N|\n",
      "|  27| 37000|Female| France|        N|\n",
      "+----+------+------+-------+---------+\n",
      "\n"
     ]
    }
   ],
   "source": [
    "bankProspectsDF1.show()"
   ]
  },
  {
   "cell_type": "markdown",
   "metadata": {
    "colab_type": "text",
    "id": "ytdDq0QS37pp"
   },
   "source": [
    "##  Cast the String datatype to Integer/Float"
   ]
  },
  {
   "cell_type": "code",
   "execution_count": 13,
   "metadata": {
    "colab": {
     "base_uri": "https://localhost:8080/",
     "height": 134
    },
    "colab_type": "code",
    "id": "ago-C-cs4Mzh",
    "outputId": "9d61ab93-119b-4474-a0c8-6acdce858ccb"
   },
   "outputs": [
    {
     "name": "stdout",
     "output_type": "stream",
     "text": [
      "root\n",
      " |-- Age: string (nullable = true)\n",
      " |-- Salary: string (nullable = true)\n",
      " |-- Gender: string (nullable = true)\n",
      " |-- Country: string (nullable = true)\n",
      " |-- Purchased: string (nullable = true)\n",
      "\n"
     ]
    }
   ],
   "source": [
    "bankProspectsDF1.printSchema()"
   ]
  },
  {
   "cell_type": "code",
   "execution_count": 14,
   "metadata": {
    "colab": {},
    "colab_type": "code",
    "id": "i1X2Kgd-36R8"
   },
   "outputs": [],
   "source": [
    "from pyspark.sql.types import IntegerType,FloatType"
   ]
  },
  {
   "cell_type": "code",
   "execution_count": 15,
   "metadata": {
    "colab": {},
    "colab_type": "code",
    "id": "-7KchOJw4H5R"
   },
   "outputs": [],
   "source": [
    "bankProspectsDF2 = bankProspectsDF1.withColumn(\"age\", bankProspectsDF1[\"age\"].cast(IntegerType())).withColumn(\"salary\", bankProspectsDF1[\"salary\"].cast(FloatType()))\n"
   ]
  },
  {
   "cell_type": "code",
   "execution_count": 16,
   "metadata": {
    "colab": {
     "base_uri": "https://localhost:8080/",
     "height": 134
    },
    "colab_type": "code",
    "id": "kJCHkePP4xsN",
    "outputId": "61a1283e-7201-43ab-f96a-3c7de03c812c"
   },
   "outputs": [
    {
     "name": "stdout",
     "output_type": "stream",
     "text": [
      "root\n",
      " |-- age: integer (nullable = true)\n",
      " |-- salary: float (nullable = true)\n",
      " |-- Gender: string (nullable = true)\n",
      " |-- Country: string (nullable = true)\n",
      " |-- Purchased: string (nullable = true)\n",
      "\n"
     ]
    }
   ],
   "source": [
    "bankProspectsDF2.printSchema()"
   ]
  },
  {
   "cell_type": "markdown",
   "metadata": {
    "colab_type": "text",
    "id": "YqgPwrX0yzQm"
   },
   "source": [
    "## Replace Age and Salary with average values of their respective column"
   ]
  },
  {
   "cell_type": "markdown",
   "metadata": {
    "colab_type": "text",
    "id": "0e8CY33LzZal"
   },
   "source": [
    "<h3>import mean from sql.fuctions</h3>"
   ]
  },
  {
   "cell_type": "code",
   "execution_count": 18,
   "metadata": {
    "colab": {},
    "colab_type": "code",
    "id": "7nC-IcXtzCd5"
   },
   "outputs": [],
   "source": [
    "from pyspark.sql.functions import mean"
   ]
  },
  {
   "cell_type": "markdown",
   "metadata": {
    "colab_type": "text",
    "id": "b80ljjwazVzU"
   },
   "source": [
    "### Calculate \"mean\" value of the age"
   ]
  },
  {
   "cell_type": "code",
   "execution_count": 19,
   "metadata": {
    "colab": {},
    "colab_type": "code",
    "id": "83vpRkL_zMQN"
   },
   "outputs": [],
   "source": [
    "mean_age_val = bankProspectsDF2.select(mean(bankProspectsDF2['age'])).collect()"
   ]
  },
  {
   "cell_type": "code",
   "execution_count": 20,
   "metadata": {
    "colab": {
     "base_uri": "https://localhost:8080/",
     "height": 34
    },
    "colab_type": "code",
    "id": "zCoshPeiz71l",
    "outputId": "be637a4f-2ff5-41d6-b160-99cee7bd2fcc"
   },
   "outputs": [
    {
     "data": {
      "text/plain": [
       "list"
      ]
     },
     "execution_count": 20,
     "metadata": {},
     "output_type": "execute_result"
    }
   ],
   "source": [
    "type(mean_age_val)"
   ]
  },
  {
   "cell_type": "code",
   "execution_count": 21,
   "metadata": {
    "colab": {
     "base_uri": "https://localhost:8080/",
     "height": 34
    },
    "colab_type": "code",
    "id": "KRHU8752zRZF",
    "outputId": "01ccd642-952a-4cba-b7bb-364bb7f19e84"
   },
   "outputs": [
    {
     "data": {
      "text/plain": [
       "[Row(avg(age)=22.11111111111111)]"
      ]
     },
     "execution_count": 21,
     "metadata": {},
     "output_type": "execute_result"
    }
   ],
   "source": [
    "mean_age_val"
   ]
  },
  {
   "cell_type": "code",
   "execution_count": 27,
   "metadata": {
    "colab": {},
    "colab_type": "code",
    "id": "wZvsZZA7z-ik"
   },
   "outputs": [],
   "source": [
    "mean_age = mean_age_val[0][0]"
   ]
  },
  {
   "cell_type": "code",
   "execution_count": 28,
   "metadata": {
    "colab": {
     "base_uri": "https://localhost:8080/",
     "height": 34
    },
    "colab_type": "code",
    "id": "MBkNAm791C5A",
    "outputId": "fe286b45-84b5-4d39-92e8-174d534d2598"
   },
   "outputs": [
    {
     "data": {
      "text/plain": [
       "22.11111111111111"
      ]
     },
     "execution_count": 28,
     "metadata": {},
     "output_type": "execute_result"
    }
   ],
   "source": [
    "mean_age"
   ]
  },
  {
   "cell_type": "markdown",
   "metadata": {
    "colab_type": "text",
    "id": "1hkaJu4Szt1V"
   },
   "source": [
    "### Calculate mean salary value"
   ]
  },
  {
   "cell_type": "code",
   "execution_count": 30,
   "metadata": {
    "colab": {},
    "colab_type": "code",
    "id": "ehp_UGUQzjlS"
   },
   "outputs": [],
   "source": [
    "mean_salary_val = bankProspectsDF2.select(mean(bankProspectsDF2['salary'])).collect()"
   ]
  },
  {
   "cell_type": "code",
   "execution_count": 31,
   "metadata": {
    "colab": {},
    "colab_type": "code",
    "id": "DVPzKmM6zrWu"
   },
   "outputs": [],
   "source": [
    "mean_salary = mean_salary_val[0][0]"
   ]
  },
  {
   "cell_type": "code",
   "execution_count": 32,
   "metadata": {
    "colab": {
     "base_uri": "https://localhost:8080/",
     "height": 34
    },
    "colab_type": "code",
    "id": "bhHjjlEY096N",
    "outputId": "9f178e50-61fc-44f5-c4ba-f89b94cda237"
   },
   "outputs": [
    {
     "data": {
      "text/plain": [
       "31875.0"
      ]
     },
     "execution_count": 32,
     "metadata": {},
     "output_type": "execute_result"
    }
   ],
   "source": [
    "mean_salary"
   ]
  },
  {
   "cell_type": "markdown",
   "metadata": {
    "colab_type": "text",
    "id": "tGd9Z1KE0etM"
   },
   "source": [
    "### Replace missing age with average value"
   ]
  },
  {
   "cell_type": "code",
   "execution_count": 33,
   "metadata": {
    "colab": {
     "base_uri": "https://localhost:8080/",
     "height": 269
    },
    "colab_type": "code",
    "id": "Q-2wz2w1ogLS",
    "outputId": "1ba9d971-4520-4c8e-9628-80611c4ca8c2"
   },
   "outputs": [
    {
     "name": "stdout",
     "output_type": "stream",
     "text": [
      "+----+-------+------+-------+---------+\n",
      "| age| salary|Gender|Country|Purchased|\n",
      "+----+-------+------+-------+---------+\n",
      "|  18|20000.0|  Male|Germany|        N|\n",
      "|  19|22000.0|Female| France|        N|\n",
      "|  20|24000.0|Female|England|        N|\n",
      "|  21|   null|  Male|England|        N|\n",
      "|  22|50000.0|  Male| France|        Y|\n",
      "|  23|35000.0|Female|England|        N|\n",
      "|  24|   null|  Male|Germany|        N|\n",
      "|  25|32000.0|Female| France|        Y|\n",
      "|null|35000.0|  Male|Germany|        N|\n",
      "|  27|37000.0|Female| France|        N|\n",
      "+----+-------+------+-------+---------+\n",
      "\n"
     ]
    }
   ],
   "source": [
    "bankProspectsDF2.show()"
   ]
  },
  {
   "cell_type": "code",
   "execution_count": 36,
   "metadata": {
    "colab": {},
    "colab_type": "code",
    "id": "kWL11-M7zsgN"
   },
   "outputs": [],
   "source": [
    "bankbankProspectsDF3 = bankProspectsDF2.na.fill(mean_age,[\"age\"])"
   ]
  },
  {
   "cell_type": "code",
   "execution_count": 37,
   "metadata": {
    "colab": {
     "base_uri": "https://localhost:8080/",
     "height": 269
    },
    "colab_type": "code",
    "id": "fTmIns5Q0phM",
    "outputId": "3b0122a0-7ad4-46b8-f7bb-0e65c383a7bf"
   },
   "outputs": [
    {
     "name": "stdout",
     "output_type": "stream",
     "text": [
      "+---+-------+------+-------+---------+\n",
      "|age| salary|Gender|Country|Purchased|\n",
      "+---+-------+------+-------+---------+\n",
      "| 18|20000.0|  Male|Germany|        N|\n",
      "| 19|22000.0|Female| France|        N|\n",
      "| 20|24000.0|Female|England|        N|\n",
      "| 21|   null|  Male|England|        N|\n",
      "| 22|50000.0|  Male| France|        Y|\n",
      "| 23|35000.0|Female|England|        N|\n",
      "| 24|   null|  Male|Germany|        N|\n",
      "| 25|32000.0|Female| France|        Y|\n",
      "| 22|35000.0|  Male|Germany|        N|\n",
      "| 27|37000.0|Female| France|        N|\n",
      "+---+-------+------+-------+---------+\n",
      "\n"
     ]
    }
   ],
   "source": [
    "bankbankProspectsDF3.show()"
   ]
  },
  {
   "cell_type": "markdown",
   "metadata": {
    "colab_type": "text",
    "id": "mpZMJQCG1RgU"
   },
   "source": [
    "### Replace missing age with salary value"
   ]
  },
  {
   "cell_type": "code",
   "execution_count": 38,
   "metadata": {
    "colab": {},
    "colab_type": "code",
    "id": "vWikgo0F1UBk"
   },
   "outputs": [],
   "source": [
    "bankbankProspectsDF4 = bankbankProspectsDF3.na.fill(mean_salary,[\"salary\"])"
   ]
  },
  {
   "cell_type": "code",
   "execution_count": 39,
   "metadata": {
    "colab": {
     "base_uri": "https://localhost:8080/",
     "height": 269
    },
    "colab_type": "code",
    "id": "fWDTxrwF1ZO6",
    "outputId": "1b3da784-2843-4990-ad21-96ad8c3240c6"
   },
   "outputs": [
    {
     "name": "stdout",
     "output_type": "stream",
     "text": [
      "+---+-------+------+-------+---------+\n",
      "|age| salary|Gender|Country|Purchased|\n",
      "+---+-------+------+-------+---------+\n",
      "| 18|20000.0|  Male|Germany|        N|\n",
      "| 19|22000.0|Female| France|        N|\n",
      "| 20|24000.0|Female|England|        N|\n",
      "| 21|31875.0|  Male|England|        N|\n",
      "| 22|50000.0|  Male| France|        Y|\n",
      "| 23|35000.0|Female|England|        N|\n",
      "| 24|31875.0|  Male|Germany|        N|\n",
      "| 25|32000.0|Female| France|        Y|\n",
      "| 22|35000.0|  Male|Germany|        N|\n",
      "| 27|37000.0|Female| France|        N|\n",
      "+---+-------+------+-------+---------+\n",
      "\n"
     ]
    }
   ],
   "source": [
    "bankbankProspectsDF4.show()"
   ]
  },
  {
   "cell_type": "code",
   "execution_count": 40,
   "metadata": {
    "colab": {
     "base_uri": "https://localhost:8080/",
     "height": 134
    },
    "colab_type": "code",
    "id": "8jYM38hb1bf_",
    "outputId": "121becda-bb03-458c-e55b-6d3a94aae220"
   },
   "outputs": [
    {
     "name": "stdout",
     "output_type": "stream",
     "text": [
      "root\n",
      " |-- age: integer (nullable = true)\n",
      " |-- salary: float (nullable = false)\n",
      " |-- Gender: string (nullable = true)\n",
      " |-- Country: string (nullable = true)\n",
      " |-- Purchased: string (nullable = true)\n",
      "\n"
     ]
    }
   ],
   "source": [
    "bankbankProspectsDF4.printSchema()"
   ]
  },
  {
   "cell_type": "markdown",
   "metadata": {
    "colab_type": "text",
    "id": "CGK2gBxZ5zLq"
   },
   "source": [
    "## Write the transformed file to a new csv file "
   ]
  },
  {
   "cell_type": "code",
   "execution_count": 41,
   "metadata": {
    "colab": {},
    "colab_type": "code",
    "id": "4JQDh8kt5nQN"
   },
   "outputs": [],
   "source": [
    "bankbankProspectsDF4.write.format(\"csv\").save(\"bank_prospects_transformed\")"
   ]
  },
  {
   "cell_type": "markdown",
   "metadata": {
    "colab": {
     "base_uri": "https://localhost:8080/",
     "height": 185
    },
    "colab_type": "code",
    "id": "6tB85yJr6VES",
    "outputId": "dc97d6bd-9b95-474e-902b-3dce8a4dd9bc"
   },
   "source": [
    "In this path new cleaned data will resides :------> bank_prospects_transformed/part-00000-457e6249-a16a-468f-988a-149fddea139f-c000.csv"
   ]
  },
  {
   "cell_type": "markdown",
   "metadata": {
    "colab": {},
    "colab_type": "code",
    "id": "bM0Berxz6mav"
   },
   "source": [
    "<h2>Done !!</h2>\n",
    "<h3>Here we clean the data and handle misssing values with the mean value of that particular column and fill wih it. now this data is ready for further Analysis.</h3>"
   ]
  }
 ],
 "metadata": {
  "colab": {
   "collapsed_sections": [],
   "name": "pyspark_bank_marketing_project.ipynb",
   "provenance": []
  },
  "kernelspec": {
   "display_name": "Python 3 (ipykernel)",
   "language": "python",
   "name": "python3"
  },
  "language_info": {
   "codemirror_mode": {
    "name": "ipython",
    "version": 3
   },
   "file_extension": ".py",
   "mimetype": "text/x-python",
   "name": "python",
   "nbconvert_exporter": "python",
   "pygments_lexer": "ipython3",
   "version": "3.8.10"
  }
 },
 "nbformat": 4,
 "nbformat_minor": 1
}
